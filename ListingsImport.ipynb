{
 "cells": [
  {
   "cell_type": "markdown",
   "metadata": {},
   "source": [
    "# Exploring NYC Listings Data w/ Neo4j  - Import"
   ]
  },
  {
   "cell_type": "code",
   "execution_count": null,
   "metadata": {},
   "outputs": [],
   "source": [
    "## Install dependencies\n",
    "\n",
    "#! pip install neo4j-driver"
   ]
  },
  {
   "cell_type": "markdown",
   "metadata": {},
   "source": [
    "## Connect to Neo4j"
   ]
  },
  {
   "cell_type": "code",
   "execution_count": null,
   "metadata": {},
   "outputs": [],
   "source": [
    "from neo4j.v1 import GraphDatabase\n",
    "\n",
    "uri = \"bolt://localhost:7687\"\n",
    "driver = GraphDatabase.driver(uri, auth=(\"neo4j\", \"letmein\"))"
   ]
  },
  {
   "cell_type": "code",
   "execution_count": null,
   "metadata": {},
   "outputs": [],
   "source": [
    "# Hello world\n",
    "with driver.session() as session:\n",
    "    result = session.run(\"MATCH (n) RETURN COUNT(n);\")\n",
    "    for record in result:\n",
    "        print(record)"
   ]
  },
  {
   "cell_type": "markdown",
   "metadata": {},
   "source": [
    "## The Data\n",
    "\n",
    "Where is comes from.\n",
    "\n",
    "\n",
    "### listings.csv\n",
    "\n",
    "```\n",
    "id,listing_url,scrape_id,last_scraped,name,summary,space,description,experiences_offered,neighborhood_overview,notes,transit,access,interaction,house_rules,thumbnail_url,medium_url,picture_url,xl_picture_url,host_id,host_url,host_name,host_since,host_location,host_about,host_response_time,host_response_rate,host_acceptance_rate,host_is_superhost,host_thumbnail_url,host_picture_url,host_neighbourhood,host_listings_count,host_total_listings_count,host_verifications,host_has_profile_pic,host_identity_verified,street,neighbourhood,neighbourhood_cleansed,neighbourhood_group_cleansed,city,state,zipcode,market,smart_location,country_code,country,latitude,longitude,is_location_exact,property_type,room_type,accommodates,bathrooms,bedrooms,beds,bed_type,amenities,square_feet,price,weekly_price,monthly_price,security_deposit,cleaning_fee,guests_included,extra_people,minimum_nights,maximum_nights,calendar_updated,has_availability,availability_30,availability_60,availability_90,availability_365,calendar_last_scraped,number_of_reviews,first_review,last_review,review_scores_rating,review_scores_accuracy,review_scores_cleanliness,review_scores_checkin,review_scores_communication,review_scores_location,review_scores_value,requires_license,license,jurisdiction_names,instant_bookable,is_business_travel_ready,cancellation_policy,require_guest_profile_picture,require_guest_phone_verification,calculated_host_listings_count,reviews_per_month\n",
    "\n",
    "\n",
    "2515,https://www.airbnb.com/rooms/2515,20180908060534,2018-09-08,Stay at Chez Chic budget room #1,Step into our artistic spacious apartment and enjoy your artistic Guest room with original artwork from NY artists. Shared with my little family however we often out and you won't see us much. across the street from Central Park - the busy city minutes away but sleeping in quiet at night!,\"-PLEASE BOOK DIRECTLY. NO NEED TO SEND A REQUEST FOR DATES CALENDAR IS UP TO DATE ALL AIRBNB RESERVATIONS WILL BE HONORED Nice, comfortable, and clean private guest room with shared bathroom (2 people max) - full size bed. In very nice apartment on central Park North 4th floor walk-up. same place as Chez chic #2, max capacity ofthe rooms 2 people). You will share the apt with me and my little family. Dailycleaning in common areas. Located one block from Subway 2/3,B/C on 110th street, Bus M1,2,3,4 at the corner, central park across the street.  Your room: full size bed (sleeps two), desk, Digital Tv/DVD, wifi internet, A/C, closet and desk.Sheets/Towels provided. Iron/air dryer provided. Separate Full bathroom shared with guestroom room #2. Access to the Kitchen from 8AM weekdays or anytime during the weekend and light cooking, access to kitchen at all times but no cooking in the evening.  The apartment: spacious newly renovated, hardwood floors,3BD, 2Bath apartment with Living room\",\"Step into our artistic spacious apartment and enjoy your artistic Guest room with original artwork from NY artists. Shared withmy little family however we often out and you won't see us much. across the street from Central Park - the busy city minutes away but sleeping in quiet at night! -PLEASE BOOK DIRECTLY. NO NEED TO SEND A REQUEST FOR DATES CALENDAR IS UP TO DATE ALL AIRBNB RESERVATIONS WILL BE HONORED Nice, comfortable, and clean private guest room with shared bathroom (2 people max) - full size bed. In very nice apartment on central Park North 4th floor walk-up. same place as Chez chic #2, max capacity of the rooms 2 people). You will share the apt with me and my little family. Daily cleaning in common areas. Located one block from Subway 2/3,B/C on110th street, Bus M1,2,3,4 at the corner, central park across the street.  Yourroom: full size bed (sleeps two), desk, Digital Tv/DVD, wifi internet, A/C, closet and desk. Sheets/Towels provided. Iron/air dryer provided. Separate F\",none,\"\",Please no cooking at night but you can warm up food in the microwave and use the kitchen ,Subway 2.3.B.C. at 110th street around the corner and bus M.2.3.4 at the corner,\"Guests will have their PRIVATE BATHROOM (NOTE: Shared between June22-Aug 22) (shared with 2nd guestroom if there are guests), and the kitchen\",\"We will have a list of Harlem restaurants and points of interest ready for you, as well as a subway map of NYC and pratical infos.\",no-smoking/please take off your shoes: cleaning fees $40,,,https://a0.muscache.com/im/pictures/d0489e42-4333-4360-911f-413d503fe146.jpg?aki_policy=large,,2758,https://www.airbnb.com/users/show/2758,Steph,2008-09-06,\"New York, New York, United States\", loves to host andwelcome travelers from around the world in our family Apt.,within a few hours,93%,N/A,f,https://a0.muscache.com/im/users/2758/profile_pic/1338267836/original.jpg?aki_policy=profile_small,https://a0.muscache.com/im/users/2758/profile_pic/1338267836/original.jpg?aki_policy=profile_x_medium,Harlem,3,3,\"['email', 'phone','facebook', 'reviews', 'jumio', 'offline_government_id', 'government_id']\",t,t,\"New York, NY, United States\",Harlem,Harlem,Manhattan,New York,NY,10026,New York,\"New York, NY\",US,United States,40.79920479936168,-73.95367574543542,t,Apartment,Private room,3,1.0,1,2,Real Bed,\"{TV,\"\"Cable TV\"\",Internet,Wifi,\"\"Air conditioning\"\",Kitchen,\"\"Free street parking\"\",\"\"Buzzer/wireless intercom\"\",Heating,\"\"Family/kid friendly\"\",\"\"Smoke detector\"\",\"\"Carbon monoxide detector\"\",\"\"Fire extinguisher\"\",Essentials,Shampoo,\"\"Lock on bedroom door\"\",Hangers,\"\"Hair dryer\"\",Iron,\"\"Laptop friendly workspace\"\",\"\"Children’s books and toys\"\",\"\"Window guards\"\",\"\"Pack ’n Play/travel crib\"\",\"\"Hot water\"\",Microwave,\"\"Coffee maker\"\",Refrigerator,\"\"Dishes and silverware\"\",\"\"Cooking basics\"\",Oven,Stove,\"\"Host greets you\"\"}\",,$59.00,$720.00,\"$1,690.00\",$0.00,$60.00,2,$39.00,2,21,4 days ago,t,6,26,52,317,2018-09-08,170,2008-10-13,2018-07-05,93,9,9,10,9,9,9,f,,,f,f,strict_14_with_grace_period,f,f,3,1.41\n",
    "\n",
    "```\n",
    "\n",
    "\n",
    "### reviews.csv\n",
    "\n",
    "```\n",
    "listing_id,id,date,reviewer_id,reviewer_name,comments\n",
    "\n",
    "\n",
    "2515,198,2008-10-13,2603,Jenny,Stephanie was a wonderful host! Her apartment was beautiful and extremely clean. We had a very nice (and affordable!) stay in the city with private room and own bathroom.\n",
    "\n",
    "```\n",
    "\n",
    "### The Property Graph Data Model\n",
    "\n",
    "Insert data model image\n",
    "\n",
    "![](./images/datamodel.png)"
   ]
  },
  {
   "cell_type": "code",
   "execution_count": null,
   "metadata": {},
   "outputs": [],
   "source": []
  },
  {
   "cell_type": "code",
   "execution_count": null,
   "metadata": {},
   "outputs": [],
   "source": []
  },
  {
   "cell_type": "markdown",
   "metadata": {},
   "source": [
    "## Import"
   ]
  },
  {
   "cell_type": "code",
   "execution_count": null,
   "metadata": {},
   "outputs": [],
   "source": [
    "# TODO: change file locations for S3\n",
    "\n",
    "reviews_file = \"https://s3-us-west-2.amazonaws.com/neo4j-datasets-public/listings-nyc/reviews.csv\"\n",
    "listings_file = \"https://s3-us-west-2.amazonaws.com/neo4j-datasets-public/listings-nyc/listings.csv\"\n",
    "neighborhood_file = \"https://s3-us-west-2.amazonaws.com/neo4j-datasets-public/listings-nyc/neighborhoods.csv\""
   ]
  },
  {
   "cell_type": "markdown",
   "metadata": {},
   "source": [
    "### Constraints\n",
    "\n",
    "First, we create some constraints to define a bit of our data model. Neo4j is schema optional, so these are not required. Constraints give some guarantee of data consistency at the database level. We can creates several types of database constraints in Neo4j:\n",
    "\n",
    "* Uniqueness constraints\n",
    "* Property existence constraints\n",
    "* Node key constraints (similar to a composite key)\n",
    "\n",
    "When we create a constraint the database guarantees to enforce the constraint, if an operation violates a constraint the transaction will be rolled back. "
   ]
  },
  {
   "cell_type": "code",
   "execution_count": null,
   "metadata": {},
   "outputs": [],
   "source": [
    "# First create our database constraints\n",
    "# \n",
    "with driver.session() as session:\n",
    "    \n",
    "    session.run('''\n",
    "        CREATE CONSTRAINT ON (h:Host) ASSERT h.host_id IS UNIQUE;\n",
    "    ''')\n",
    "    \n",
    "    session.run('''\n",
    "        CREATE CONSTRAINT ON (h:Listing) ASSERT h.listing_id IS UNIQUE;\n",
    "    ''')\n",
    "    \n",
    "    session.run('''\n",
    "        CREATE CONSTRAINT ON (n:Neighborhood) ASSERT n.name IS UNIQUE;\n",
    "    ''')\n",
    "    \n",
    "    session.run('''\n",
    "        CREATE CONSTRAINT ON (g:NeighborhoodGroup) ASSERT g.name IS UNIQUE;\n",
    "    ''')\n",
    "    \n",
    "    session.run('''\n",
    "        CREATE CONSTRAINT ON (a:Amenity) ASSERT a.name IS UNIQUE;\n",
    "    ''')\n",
    "    \n",
    "    session.run('''\n",
    "        CREATE CONSTRAINT ON (r:Review) ASSERT r.review_id IS UNIQUE;\n",
    "    ''')\n",
    "    \n",
    "    session.run('''\n",
    "        CREATE CONSTRAINT ON (u:User) ASSERT u.user_id IS UNIQUE;\n",
    "    ''')"
   ]
  },
  {
   "cell_type": "markdown",
   "metadata": {},
   "source": [
    "### Import data with `LOAD CSV`\n",
    "\n",
    "`LOAD CSV` is funtionality built into Cypher that allows for import / processing of flat files. We will make use of `LOAD CSV` to import our listings data"
   ]
  },
  {
   "cell_type": "code",
   "execution_count": null,
   "metadata": {},
   "outputs": [],
   "source": [
    "# Add neighborhood structure\n",
    "\n",
    "with driver.session() as session:\n",
    "    result = session.run('''\n",
    "        LOAD CSV WITH HEADERS FROM $neighborhood_file AS row\n",
    "        MERGE (g:NeighborhoodGroup {name: row.neighbourhood_group  })\n",
    "        MERGE (n:Neighborhood {name: row.neighbourhood})\n",
    "        MERGE (g)<-[:IN_GROUP]-(n)\n",
    "        RETURN COUNT(*)\n",
    "    ''', neighborhood_file=neighborhood_file)\n",
    "    print(\"Created \" + str(result.single().value()) + \" neighborhood nodes\")\n"
   ]
  },
  {
   "cell_type": "code",
   "execution_count": null,
   "metadata": {},
   "outputs": [],
   "source": [
    "# CREATE `Listing` nodes\n",
    "\n",
    "with driver.session() as session:\n",
    "    result = session.run('''\n",
    "        USING PERIODIC COMMIT\n",
    "        LOAD CSV WITH HEADERS FROM $listings_file AS row\n",
    "        MATCH (n:Neighborhood) WHERE n.name = row.neighbourhood_cleansed\n",
    "        MERGE (l:Listing {listing_id: row.id})\n",
    "        ON CREATE SET l.picture_url = row.picture_url,\n",
    "            l.house_rules           = row.house_rules,\n",
    "            l.first_review          = Date(row.first_review),\n",
    "            l.neighborhood_overview = row.neighborhood_overview,\n",
    "            l.longitude             = toFloat(row.longitude),\n",
    "            l.latitude              = toFloat(row.latitude),\n",
    "            l.location              = Point({latitude: l.latitude, longitude: l.longitude}),\n",
    "            l.name                  = row.name,\n",
    "            l.description           = row.description,\n",
    "            l.cancellation_policy   = row.cancellation_policy,\n",
    "            l.summary               = row.summary,\n",
    "            l.price                 = toFloat(substring(row.price,1 )),\n",
    "            l.weekly_price          = toFloat(substring(row.weekly_price,1)),\n",
    "            l.bedrooms              = toInteger(row.bedrooms),\n",
    "            l.bathrooms             = toFloat(row.bathrooms)\n",
    "        MERGE (n)<-[:IS_IN]-(l)\n",
    "        RETURN COUNT(*)\n",
    "    ''', listings_file=listings_file)\n",
    "    print(\"Created \" + str(result.single().value()) + \" Listing nodes.\")"
   ]
  },
  {
   "cell_type": "code",
   "execution_count": null,
   "metadata": {},
   "outputs": [],
   "source": [
    "# Create Amenity nodes and connect to Listings\n",
    "\n",
    "with driver.session() as session:\n",
    "    result = session.run('''\n",
    "        USING PERIODIC COMMIT\n",
    "        LOAD CSV WITH HEADERS FROM $listings_file AS row\n",
    "        FOREACH (a IN split(replace(replace(replace(row.amenities, '{', \"\"), '}', \"\"), '\"', '')  , ',') | \n",
    "            MERGE (amenity:Amenity {name: a})\n",
    "        )\n",
    "        RETURN COUNT(*)\n",
    "    \n",
    "    ''', listings_file=listings_file)\n",
    "    print(\"Added amenities for \" + str(result.single().value()) + \" Listings\")\n",
    "    \n",
    "    result = session.run('''\n",
    "        USING PERIODIC COMMIT\n",
    "        LOAD CSV WITH HEADERS FROM $listings_file AS row\n",
    "        MATCH (l:Listing {listing_id: row.id})\n",
    "        UNWIND split(replace(replace(replace(row.amenities, '{', \"\"), '}', \"\"), '\"', '')  , ',') AS a\n",
    "            MATCH (amenity:Amenity {name: a})\n",
    "            MERGE (l)-[:HAS_AMENITY]->(amenity)\n",
    "        RETURN COUNT(*)\n",
    "    ''', listings_file=listings_file)\n",
    "    print(\"Added \" + str(result.single().value()) + \" Amenity relationships \")"
   ]
  },
  {
   "cell_type": "code",
   "execution_count": null,
   "metadata": {},
   "outputs": [],
   "source": [
    "# Add Host and HOSTED_BY relationships\n",
    "\n",
    "with driver.session() as session:\n",
    "    result = session.run('''\n",
    "        USING PERIODIC COMMIT\n",
    "        LOAD CSV WITH HEADERS FROM $listings_file AS row\n",
    "        MATCH (l:Listing) WHERE l.listing_id = row.id\n",
    "        MERGE (h:Host {host_id: row.host_id})\n",
    "        ON CREATE SET h.name   = row.host_name,\n",
    "                      h.about  = row.host_about\n",
    "        MERGE (h)-[:HOSTS]->(l)\n",
    "        RETURN COUNT(*)\n",
    "    ''', listings_file=listings_file)\n",
    "    print(\"Add host information for \" + str(result.single().value()) + \" listings\")\n"
   ]
  },
  {
   "cell_type": "code",
   "execution_count": null,
   "metadata": {},
   "outputs": [],
   "source": [
    "# Add user and review\n",
    "with driver.session() as session:\n",
    "    result = session.run('''\n",
    "        USING PERIODIC COMMIT 10000\n",
    "        LOAD CSV WITH HEADERS FROM $reviews_file AS row\n",
    "        MERGE (u:User {user_id: row.reviewer_id})\n",
    "            ON CREATE SET u.name = row.reviewer_name\n",
    "        MERGE (r:Review {review_id: row.id})\n",
    "            ON CREATE SET r.comments = row.comments,\n",
    "                          r.date     = Date(row.date)\n",
    "        RETURN COUNT(*)\n",
    "    ''', reviews_file=reviews_file)\n",
    "    print(\"Added \" + str(result.single().value()) + \" reviews\")\n",
    "    \n",
    "\n",
    "# Add WROTE and REVEWS relationships\n",
    "with driver.session() as session:\n",
    "    result = session.run('''\n",
    "        USING PERIODIC COMMIT 10000\n",
    "        LOAD CSV WITH HEADERS FROM $reviews_file AS row\n",
    "        MATCH (u:User {user_id: row.reviewer_id})\n",
    "        MATCH (r:Review {review_id: row.id})\n",
    "        MATCH (l:Listing {listing_id: row.listing_id})\n",
    "        MERGE (l)<-[:REVIEWS]-(r)\n",
    "        MERGE (r)<-[:WROTE]-(u)\n",
    "        RETURN COUNT(*)\n",
    "    ''', reviews_file=reviews_file)\n",
    "    print(\"Connected \" + str(result.single().value()) +\" reivews to User and Listing\")"
   ]
  },
  {
   "cell_type": "code",
   "execution_count": null,
   "metadata": {},
   "outputs": [],
   "source": []
  },
  {
   "cell_type": "code",
   "execution_count": null,
   "metadata": {},
   "outputs": [],
   "source": []
  },
  {
   "cell_type": "code",
   "execution_count": null,
   "metadata": {},
   "outputs": [],
   "source": []
  },
  {
   "cell_type": "code",
   "execution_count": null,
   "metadata": {},
   "outputs": [],
   "source": []
  }
 ],
 "metadata": {
  "kernelspec": {
   "display_name": "Python 3",
   "language": "python",
   "name": "python3"
  },
  "language_info": {
   "codemirror_mode": {
    "name": "ipython",
    "version": 3
   },
   "file_extension": ".py",
   "mimetype": "text/x-python",
   "name": "python",
   "nbconvert_exporter": "python",
   "pygments_lexer": "ipython3",
   "version": "3.6.5"
  }
 },
 "nbformat": 4,
 "nbformat_minor": 2
}
